{
 "cells": [
  {
   "cell_type": "markdown",
   "metadata": {},
   "source": [
    "# Task A2 - Identifying the attacker - (Computer Forensics, Packet Analysis)Points: 40\n",
    "\n",
    "## Problem Statement\n",
    "\n",
    "Using the timestamp and IP address information from the VPN log, the FBI was able to identify a virtual server that the attacker used for staging their attack. They were able to obtain a warrant to search the server, but key files used in the attack were deleted.\n",
    "\n",
    "Luckily, the company uses an intrusion detection system which stores packet logs. They were able to find an SSL session going to the staging server, and believe it may have been the attacker transferring over their tools.\n",
    "\n",
    "The FBI hopes that these tools may provide a clue to the attacker's identity\n",
    "\n",
    "\n",
    "Downloads:\n",
    "\n",
    "- Files captured from root's home directory on the staging server ([`root.tar.bz2`](./data/a2/root/))\n",
    "- PCAP file believed to be of the attacker downloading their tools ([`session.pcap`](./data/a2/session.pcap))\n",
    "\n",
    "## What to do\n",
    "\n",
    "What was the username of the account the attacker used when they built their tools?"
   ]
  },
  {
   "cell_type": "markdown",
   "metadata": {},
   "source": [
    "## My solution\n",
    "\n",
    "Dependencies:\n",
    "\n",
    "- [Wireshark](https://www.wireshark.org/)"
   ]
  },
  {
   "cell_type": "markdown",
   "metadata": {},
   "source": [
    "First, analyze the type of the given file, `session.pcap`."
   ]
  },
  {
   "cell_type": "code",
   "execution_count": 1,
   "metadata": {},
   "outputs": [
    {
     "name": "stdout",
     "output_type": "stream",
     "text": [
      "./data/a2/session.pcap: pcap capture file, microsecond ts (little-endian) - version 2.4 (Ethernet, capture length 65535)\n"
     ]
    }
   ],
   "source": [
    "%%bash\n",
    "file ./data/a2/session.pcap"
   ]
  },
  {
   "cell_type": "markdown",
   "metadata": {},
   "source": [
    "So, the file is a `pcap` file as the extension shows."
   ]
  },
  {
   "cell_type": "code",
   "execution_count": 1,
   "metadata": {},
   "outputs": [],
   "source": [
    "import dpkt\n",
    "import datetime\n",
    "from dpkt.utils import mac_to_str, inet_to_str"
   ]
  },
  {
   "cell_type": "code",
   "execution_count": 2,
   "metadata": {},
   "outputs": [
    {
     "ename": "FileNotFoundError",
     "evalue": "[Errno 2] No such file or directory: 'data/session.pcap'",
     "output_type": "error",
     "traceback": [
      "\u001b[0;31m---------------------------------------------------------------------------\u001b[0m",
      "\u001b[0;31mFileNotFoundError\u001b[0m                         Traceback (most recent call last)",
      "\u001b[1;32m/Users/jio/repo/github.com/diohabara/cs6322-f22/nsa-codebreak-challenge2022/a2.ipynb Cell 7\u001b[0m in \u001b[0;36m<cell line: 41>\u001b[0;34m()\u001b[0m\n\u001b[1;32m     <a href='vscode-notebook-cell:/Users/jio/repo/github.com/diohabara/cs6322-f22/nsa-codebreak-challenge2022/a2.ipynb#X12sZmlsZQ%3D%3D?line=37'>38</a>\u001b[0m         print_packets(pcap)\n\u001b[1;32m     <a href='vscode-notebook-cell:/Users/jio/repo/github.com/diohabara/cs6322-f22/nsa-codebreak-challenge2022/a2.ipynb#X12sZmlsZQ%3D%3D?line=40'>41</a>\u001b[0m \u001b[39mif\u001b[39;00m \u001b[39m__name__\u001b[39m \u001b[39m==\u001b[39m \u001b[39m'\u001b[39m\u001b[39m__main__\u001b[39m\u001b[39m'\u001b[39m:\n\u001b[0;32m---> <a href='vscode-notebook-cell:/Users/jio/repo/github.com/diohabara/cs6322-f22/nsa-codebreak-challenge2022/a2.ipynb#X12sZmlsZQ%3D%3D?line=41'>42</a>\u001b[0m     test()\n",
      "\u001b[1;32m/Users/jio/repo/github.com/diohabara/cs6322-f22/nsa-codebreak-challenge2022/a2.ipynb Cell 7\u001b[0m in \u001b[0;36mtest\u001b[0;34m()\u001b[0m\n\u001b[1;32m     <a href='vscode-notebook-cell:/Users/jio/repo/github.com/diohabara/cs6322-f22/nsa-codebreak-challenge2022/a2.ipynb#X12sZmlsZQ%3D%3D?line=33'>34</a>\u001b[0m \u001b[39mdef\u001b[39;00m \u001b[39mtest\u001b[39m():\n\u001b[1;32m     <a href='vscode-notebook-cell:/Users/jio/repo/github.com/diohabara/cs6322-f22/nsa-codebreak-challenge2022/a2.ipynb#X12sZmlsZQ%3D%3D?line=34'>35</a>\u001b[0m     \u001b[39m\"\"\"Open up a test pcap file and print out the packets\"\"\"\u001b[39;00m\n\u001b[0;32m---> <a href='vscode-notebook-cell:/Users/jio/repo/github.com/diohabara/cs6322-f22/nsa-codebreak-challenge2022/a2.ipynb#X12sZmlsZQ%3D%3D?line=35'>36</a>\u001b[0m     \u001b[39mwith\u001b[39;00m \u001b[39mopen\u001b[39;49m(\u001b[39m'\u001b[39;49m\u001b[39mdata/session.pcap\u001b[39;49m\u001b[39m'\u001b[39;49m, \u001b[39m'\u001b[39;49m\u001b[39mrb\u001b[39;49m\u001b[39m'\u001b[39;49m) \u001b[39mas\u001b[39;00m f:\n\u001b[1;32m     <a href='vscode-notebook-cell:/Users/jio/repo/github.com/diohabara/cs6322-f22/nsa-codebreak-challenge2022/a2.ipynb#X12sZmlsZQ%3D%3D?line=36'>37</a>\u001b[0m         pcap \u001b[39m=\u001b[39m dpkt\u001b[39m.\u001b[39mpcap\u001b[39m.\u001b[39mReader(f)\n\u001b[1;32m     <a href='vscode-notebook-cell:/Users/jio/repo/github.com/diohabara/cs6322-f22/nsa-codebreak-challenge2022/a2.ipynb#X12sZmlsZQ%3D%3D?line=37'>38</a>\u001b[0m         print_packets(pcap)\n",
      "\u001b[0;31mFileNotFoundError\u001b[0m: [Errno 2] No such file or directory: 'data/session.pcap'"
     ]
    }
   ],
   "source": [
    "def print_packets(pcap):\n",
    "    \"\"\"Print out information about each packet in a pcap\n",
    "       Args:\n",
    "           pcap: dpkt pcap reader object (dpkt.pcap.Reader)\n",
    "    \"\"\"\n",
    "    # For each packet in the pcap process the contents\n",
    "    for timestamp, buf in pcap:\n",
    "\n",
    "        # Print out the timestamp in UTC\n",
    "        print('Timestamp: ', str(datetime.datetime.utcfromtimestamp(timestamp)))\n",
    "\n",
    "        # Unpack the Ethernet frame (mac src/dst, ethertype)\n",
    "        eth = dpkt.ethernet.Ethernet(buf)\n",
    "        print('Ethernet Frame: ', mac_to_str(eth.src), mac_to_str(eth.dst), eth.type)\n",
    "\n",
    "        # Make sure the Ethernet data contains an IP packet\n",
    "        if not isinstance(eth.data, dpkt.ip.IP):\n",
    "            print('Non IP Packet type not supported %s\\n' % eth.data.__class__.__name__)\n",
    "            continue\n",
    "\n",
    "        # Now access the data within the Ethernet frame (the IP packet)\n",
    "        # Pulling out src, dst, length, fragment info, TTL, and Protocol\n",
    "        ip = eth.data\n",
    "\n",
    "        # Print out the info, including the fragment flags and offset\n",
    "        print('IP: %s -> %s   (len=%d ttl=%d DF=%d MF=%d offset=%d)\\n' %\n",
    "              (inet_to_str(ip.src), inet_to_str(ip.dst), ip.len, ip.ttl, ip.df, ip.mf, ip.offset))\n",
    "\n",
    "    # Pretty print the last packet\n",
    "    print('** Pretty print demo **\\n')\n",
    "    eth.pprint()\n",
    "\n",
    "\n",
    "def test():\n",
    "    \"\"\"Open up a test pcap file and print out the packets\"\"\"\n",
    "    with open('data/session.pcap', 'rb') as f:\n",
    "        pcap = dpkt.pcap.Reader(f)\n",
    "        print_packets(pcap)\n",
    "\n",
    "\n",
    "if __name__ == '__main__':\n",
    "    test()"
   ]
  },
  {
   "cell_type": "code",
   "execution_count": null,
   "metadata": {},
   "outputs": [],
   "source": []
  },
  {
   "cell_type": "markdown",
   "metadata": {},
   "source": []
  }
 ],
 "metadata": {
  "kernelspec": {
   "display_name": "Python 3.10.5 ('.venv': poetry)",
   "language": "python",
   "name": "python3"
  },
  "language_info": {
   "codemirror_mode": {
    "name": "ipython",
    "version": 3
   },
   "file_extension": ".py",
   "mimetype": "text/x-python",
   "name": "python",
   "nbconvert_exporter": "python",
   "pygments_lexer": "ipython3",
   "version": "3.10.5"
  },
  "orig_nbformat": 4,
  "vscode": {
   "interpreter": {
    "hash": "7340141b1bedd2bdf59474c73850bf87451207a8ef665322ce50be7e268f9e4c"
   }
  }
 },
 "nbformat": 4,
 "nbformat_minor": 2
}
