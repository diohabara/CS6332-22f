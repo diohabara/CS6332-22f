{
 "cells": [
  {
   "cell_type": "markdown",
   "metadata": {},
   "source": [
    "# Task B2 - Getting Deeper - (Web Hacking, [redacted])Points: 100\n",
    "\n",
    "## Problem statement\n",
    "\n",
    "> It looks like the backend site you discovered has some security features to prevent you from snooping. They must have hidden the login page away somewhere hard to guess.\n",
    "> Analyze the backend site, and find the URL to the login page.\n",
    "> Hint: this group seems a bit sloppy. They might be exposing more than they intend to.\n",
    "> Warning: Forced-browsing tools, such as DirBuster, are unlikely to be very helpful for this challenge, and may get your IP address automatically blocked by AWS as a DDoS-prevention measure. Codebreaker has no control over this blocking, so we suggest not attempting to use these techniques.\n",
    "> Enter the URL for the login page\n"
   ]
  },
  {
   "cell_type": "code",
   "execution_count": null,
   "metadata": {},
   "outputs": [],
   "source": []
  }
 ],
 "metadata": {
  "kernelspec": {
   "display_name": "Python 3.10.5 ('.venv': poetry)",
   "language": "python",
   "name": "python3"
  },
  "language_info": {
   "name": "python",
   "version": "3.10.5"
  },
  "orig_nbformat": 4,
  "vscode": {
   "interpreter": {
    "hash": "7340141b1bedd2bdf59474c73850bf87451207a8ef665322ce50be7e268f9e4c"
   }
  }
 },
 "nbformat": 4,
 "nbformat_minor": 2
}
